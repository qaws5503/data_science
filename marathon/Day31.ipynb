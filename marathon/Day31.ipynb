{
 "cells": [
  {
   "cell_type": "markdown",
   "metadata": {},
   "source": [
    "# D31 掌握 A/B test的精隨 - 假設檢定的概念\n",
    "\n",
    "## 假設\n",
    "\n",
    "虛無假設為不認同的假設，而對立假設則是欲證明之假設。\n",
    "\n",
    "* H0 稱為虛無假設\n",
    "* H1 稱為對立假設"
   ]
  },
  {
   "cell_type": "markdown",
   "metadata": {},
   "source": [
    "Q1：吃減肥藥能在一個月內瘦超過十公斤，研究人員想推翻第四台廣告業者的說法，請試著寫出 H0 與 H1。\n",
    "\n",
    "* H0:吃減肥藥能在一個月內瘦超過十公斤(X>=10)\n",
    "* H1:吃減肥藥不能在一個月內瘦超過十公斤(X<10)"
   ]
  },
  {
   "cell_type": "markdown",
   "metadata": {},
   "source": [
    "Q2：一位速食店店長認為其品牌在市場之佔有率至多為 12%，於是該店長進行一個市場調查，一共訪問了 3000 位消費者，其中有311位表示喜歡該品牌，請試著寫出 H0 與 H1。\n",
    "* H0:品牌在市場之佔有率超過 12%(p>=12%)\n",
    "* H1:品牌在市場之佔有率至多 12%(p<12%)"
   ]
  }
 ],
 "metadata": {
  "kernelspec": {
   "display_name": "Python 3",
   "language": "python",
   "name": "python3"
  },
  "language_info": {
   "codemirror_mode": {
    "name": "ipython",
    "version": 3
   },
   "file_extension": ".py",
   "mimetype": "text/x-python",
   "name": "python",
   "nbconvert_exporter": "python",
   "pygments_lexer": "ipython3",
   "version": "3.8.5"
  }
 },
 "nbformat": 4,
 "nbformat_minor": 4
}
