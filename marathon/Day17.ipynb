{
 "cells": [
  {
   "cell_type": "markdown",
   "metadata": {},
   "source": [
    "# D17 pandas 效能調校\n",
    "\n",
    "## Increase Performance\n",
    "\n",
    "* 讀取資料型態選最快速的\n",
    "    * .plk > .hdf > .csv > .xlsx\n",
    "* 多使用內建函式\n",
    "    * use groupby + agg + 內建函式\n",
    "* 向量化的資料處理\n",
    "    * .isin 為使用向量化處理\n",
    "    \n",
    "### 大型資料處理\n",
    "\n",
    "處理大型資料常面臨記憶體不足，解決辦法：\n",
    "\n",
    "* int -> uint\n",
    "* float64 -> float32\n",
    "\n",
    "注意是否會有 overfloat 狀況發生\n",
    "\n",
    "## 問題：\n",
    "\n",
    "1. 在速度較慢的時候，可以先從哪邊開始檢查？\n",
    "\n",
    "資料型態\n",
    "\n",
    "2. 資料過大時應採取什麼方式讓記憶體占用量下降？\n",
    "\n",
    "downcast"
   ]
  }
 ],
 "metadata": {
  "kernelspec": {
   "display_name": "Python 3",
   "language": "python",
   "name": "python3"
  },
  "language_info": {
   "codemirror_mode": {
    "name": "ipython",
    "version": 3
   },
   "file_extension": ".py",
   "mimetype": "text/x-python",
   "name": "python",
   "nbconvert_exporter": "python",
   "pygments_lexer": "ipython3",
   "version": "3.8.5"
  }
 },
 "nbformat": 4,
 "nbformat_minor": 4
}
