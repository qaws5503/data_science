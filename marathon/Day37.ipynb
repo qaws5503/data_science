{
 "cells": [
  {
   "cell_type": "markdown",
   "metadata": {},
   "source": [
    "# D37 淺談資料科學與EDA所扮演的角色與重要性\n",
    "\n",
    "今天課程中以一個案例，說明資料分析的流程與探索性分析，是否對於課程中一開始的問題，更有想法了？\n",
    "\n",
    "\n",
    "\n",
    "* 挑選 Mr./Ms. Right\n",
    "* 顧客下次會買哪些東西？\n",
    "* 半導體的良率預測？\n",
    "\n",
    "\n",
    "Q1：哪一個問題不適合用資料科學解決？\n",
    "\n",
    "Q2：以你的角度來分析，為什麼這樣的問題，較不適合用資料來解決？"
   ]
  },
  {
   "cell_type": "markdown",
   "metadata": {},
   "source": [
    "## Q1\n",
    "\n",
    "挑選 Mr./Ms. Right"
   ]
  },
  {
   "cell_type": "markdown",
   "metadata": {},
   "source": [
    "## Q2\n",
    "\n",
    "因為要量化此項目相當困難，因此無法較不適合用資料科學解決"
   ]
  }
 ],
 "metadata": {
  "kernelspec": {
   "display_name": "Python 3",
   "language": "python",
   "name": "python3"
  },
  "language_info": {
   "codemirror_mode": {
    "name": "ipython",
    "version": 3
   },
   "file_extension": ".py",
   "mimetype": "text/x-python",
   "name": "python",
   "nbconvert_exporter": "python",
   "pygments_lexer": "ipython3",
   "version": "3.8.5"
  }
 },
 "nbformat": 4,
 "nbformat_minor": 4
}
