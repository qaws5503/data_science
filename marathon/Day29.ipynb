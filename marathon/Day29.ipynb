{
 "cells": [
  {
   "cell_type": "markdown",
   "metadata": {},
   "source": [
    "# D29 用機率分佈描述亂中有序的世界－連續型分配\n",
    "\n",
    "## 連續型分佈\n",
    "\n",
    "只要是不可數皆為連續型分佈\n",
    "\n",
    "### 常見函式\n",
    "\n",
    "* 機率質量函數：uniform.pdf\n",
    "* 累積機率函數：uniform.cdf\n",
    "* 樣本點：uniform.rvs\n",
    "* 統計量計算：uniform.stats\n",
    "\n",
    "### 常態分佈\n",
    "\n",
    "若隨機變量數 X 服從一個平均數為 μ 和 標準差為 σ 的常態分配，其記為 X ~ N (μ, σ^2)\n",
    "\n",
    "#### 一般常態轉成標準常態分佈\n",
    "\n",
    "可以透過 Z = (X-μ)/σ 轉換為標準常態分佈\n",
    "\n",
    "#### 常見函式\n",
    "\n",
    "* 機率質量函數：norm.pmf\n",
    "* 累積機率函數：norm.cdf\n",
    "* 樣本點：norm.rvs\n",
    "* 統計量計算：norm.stats"
   ]
  },
  {
   "cell_type": "code",
   "execution_count": 2,
   "metadata": {},
   "outputs": [],
   "source": [
    "from numpy.random import normal,uniform\n",
    "from scipy import stats\n",
    "import matplotlib.pyplot as plt"
   ]
  },
  {
   "cell_type": "code",
   "execution_count": 3,
   "metadata": {},
   "outputs": [
    {
     "name": "stdout",
     "output_type": "stream",
     "text": [
      "P(Z<1)= 0.8413447460685429\n"
     ]
    }
   ],
   "source": [
    "# Q1：計算標準常態分配，小於 1 的機率有多大？\n",
    "\n",
    "mu = 0\n",
    "sigma = 1\n",
    "p = stats.norm.cdf(1, mu, sigma)\n",
    "print(\"P(Z<1)=\",p)"
   ]
  },
  {
   "cell_type": "code",
   "execution_count": 4,
   "metadata": {
    "scrolled": true
   },
   "outputs": [
    {
     "name": "stdout",
     "output_type": "stream",
     "text": [
      "P(Z>1 | Z<-1)= 0.31731050786291415\n"
     ]
    }
   ],
   "source": [
    "# Q2：計算標準常態分配，大於1，小於 -1 的機率有多大？\n",
    "# 先計算 [-1,1]，再減去\n",
    "\n",
    "mu = 0\n",
    "sigma = 1\n",
    "p1 = stats.norm.cdf(1, mu, sigma)\n",
    "p2 = stats.norm.cdf(-1, mu, sigma)\n",
    "print(\"P(Z>1 | Z<-1)=\", 1-(p1-p2))"
   ]
  },
  {
   "cell_type": "code",
   "execution_count": 5,
   "metadata": {},
   "outputs": [
    {
     "name": "stdout",
     "output_type": "stream",
     "text": [
      "P(Z>3)= 0.6914624612740131\n"
     ]
    }
   ],
   "source": [
    "# Q3：計算 X~N(2,4)，小於 3 的機率有多大？\n",
    "\n",
    "mu = 2\n",
    "sigma = 2 # 變異數需要開根號\n",
    "\n",
    "p = stats.norm.cdf(3, mu, sigma)\n",
    "print(\"P(Z>3)=\", p)"
   ]
  }
 ],
 "metadata": {
  "kernelspec": {
   "display_name": "Python 3",
   "language": "python",
   "name": "python3"
  },
  "language_info": {
   "codemirror_mode": {
    "name": "ipython",
    "version": 3
   },
   "file_extension": ".py",
   "mimetype": "text/x-python",
   "name": "python",
   "nbconvert_exporter": "python",
   "pygments_lexer": "ipython3",
   "version": "3.8.5"
  }
 },
 "nbformat": 4,
 "nbformat_minor": 4
}
