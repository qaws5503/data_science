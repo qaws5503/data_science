{
 "cells": [
  {
   "cell_type": "markdown",
   "metadata": {},
   "source": [
    "# D02 NumPy 陣列進階操作\n",
    "numpy 的各維度示意圖：\n",
    "![1d](https://github.com/qaws5503/data_science/blob/main/picture/1d_axis.png?raw=true)\n",
    "![2d](https://github.com/qaws5503/data_science/blob/main/picture/2D_axis.png?raw=true)\n",
    "![3d](https://github.com/qaws5503/data_science/blob/main/picture/3D_axis.png?raw=true)"
   ]
  },
  {
   "cell_type": "code",
   "execution_count": 2,
   "metadata": {},
   "outputs": [],
   "source": [
    "import numpy as np"
   ]
  },
  {
   "cell_type": "markdown",
   "metadata": {},
   "source": [
    "#### 將上列陣列(array1)，轉成維度為(5X6)的 array，順序按列填充。(hint:order=\"F\")"
   ]
  },
  {
   "cell_type": "code",
   "execution_count": 13,
   "metadata": {},
   "outputs": [
    {
     "name": "stdout",
     "output_type": "stream",
     "text": [
      "[[ 0  1  2  3  4  5]\n",
      " [ 6  7  8  9 10 11]\n",
      " [12 13 14 15 16 17]\n",
      " [18 19 20 21 22 23]\n",
      " [24 25 26 27 28 29]]\n",
      "\n",
      " 以下有加入 order:\n",
      "\n",
      "[[ 0  5 10 15 20 25]\n",
      " [ 1  6 11 16 21 26]\n",
      " [ 2  7 12 17 22 27]\n",
      " [ 3  8 13 18 23 28]\n",
      " [ 4  9 14 19 24 29]]\n"
     ]
    }
   ],
   "source": [
    "array1 = np.array(range(30))\n",
    "reshape_array = array1.reshape(5,6,order=\"F\")\n",
    "print(array1.reshape(5,6))\n",
    "print(\"\\n 以下有加入 order:\\n\")\n",
    "print(reshape_array)"
   ]
  },
  {
   "cell_type": "markdown",
   "metadata": {},
   "source": [
    "#### 呈上題的 array，找出被 6 除餘 1 的數的索引\n",
    "使用 where() 來尋找該位置，搜尋出來的第一個陣列是 axis=0 第二個陣列是 axis=1"
   ]
  },
  {
   "cell_type": "code",
   "execution_count": 14,
   "metadata": {},
   "outputs": [
    {
     "data": {
      "text/plain": [
       "(array([0, 1, 2, 3, 4]), array([5, 0, 1, 2, 3]))"
      ]
     },
     "execution_count": 14,
     "metadata": {},
     "output_type": "execute_result"
    }
   ],
   "source": [
    "np.where(reshape_array%6 == 1)"
   ]
  }
 ],
 "metadata": {
  "kernelspec": {
   "display_name": "Python 3",
   "language": "python",
   "name": "python3"
  },
  "language_info": {
   "codemirror_mode": {
    "name": "ipython",
    "version": 3
   },
   "file_extension": ".py",
   "mimetype": "text/x-python",
   "name": "python",
   "nbconvert_exporter": "python",
   "pygments_lexer": "ipython3",
   "version": "3.8.5"
  }
 },
 "nbformat": 4,
 "nbformat_minor": 4
}
