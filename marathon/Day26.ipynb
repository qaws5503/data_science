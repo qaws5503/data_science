{
 "cells": [
  {
   "cell_type": "markdown",
   "metadata": {},
   "source": [
    "# D26 用統計描述資料的樣態\n",
    "\n",
    "## 為什麼需要敘述統計？\n",
    "\n",
    "為了了解台灣男生和女生在身高上誰比較高，收集到 20 位男生和 20 位女生的身高，肉眼看原始資料，無法很快速的比較出結果。\n",
    "\n",
    "## 母體 ( population ) 與 樣本 ( Sample ) 的關係\n",
    "\n",
    "無法檢測所有的母體的特性，所以用局部的方式來觀察全部的特性，取局部的資料點的科學方法，稱作抽樣方法，所以每一次抽都會抽出不一樣的資料點。\n",
    "\n",
    "以上述例子\n",
    "\n",
    "### 母體：\n",
    "* 台灣的所有男生和女生的身高\n",
    "\n",
    "### 樣本：\n",
    "* 樣本是母體的一部分\n",
    "* 透過不同的抽樣方法，抽取出的值 \n",
    "* 男生女生各抽20位\n",
    "    \n",
    "所以樣本，是我們觀察到的現象，而統計推論的方法，就是一種以小窺大的一門技術，希望得到母體的真實狀況，也就是真相，透過現象(樣本)企圖了解真相(母體)。\n",
    "\n",
    "## 透過統計量，知道目前真相調查的現況\n",
    "\n",
    "### 統計量：\n",
    "* 描述一變數或樣本之特徵的數值，樣本數的函數。\n",
    "* 可以讓人類可以很快了解資料的分布和訊息。\n",
    "* 平均數、眾數皆為一種統計量\n",
    "* 可分為集中趨勢、離散程度和分布型態三類統計量\n",
    "\n",
    "## 集中趨勢 — 確定一組數據的均衡點\n",
    "\n",
    "* 平均數\n",
    "* 中位數：樣本最中間之值，偶數則為中間兩數平均\n",
    "* 眾數：出現最多次的數據值\n",
    "\n",
    "## 離散程度 — 確定一組數據分散程度\n",
    "\n",
    "* 全距：max - min\n",
    "* 變異數：量測所有資料到平均數的平均距離\n",
    "* 百分位數：PR值\n",
    "\n",
    "## 分布形態 — 確定一組數據分布的均勻程度\n",
    "\n",
    "* 偏度：\n",
    "    * 負偏態或左偏態：左側的尾部更長，分布的主體集中在右側，左側有較多極端值。\n",
    "    * 正偏態或右偏態：右側的尾部更長，分布的主體集中在左側，右側有較多極端值，日常生活數據常見右偏態分布。\n",
    "    * 記尾巴朝著哪個方向\n",
    "* 峰度：峰度反映了峰部的尖度，也代表變異數的來源來自於不常出現的尾巴兩端的數值。"
   ]
  },
  {
   "cell_type": "code",
   "execution_count": 2,
   "metadata": {},
   "outputs": [],
   "source": [
    "# library\n",
    "import matplotlib.pyplot as plt\n",
    "import numpy as np\n",
    "import pandas as pd\n",
    "from scipy import stats\n",
    "import math\n",
    "import statistics\n",
    "import seaborn as sns"
   ]
  },
  {
   "cell_type": "markdown",
   "metadata": {},
   "source": [
    "boys = [164,175,183,173,176,159,165,165,169,151,156,163,169,144,170,177,165,160,164,171]  \n",
    "girls = [169,170,162,154,183,173,169,167,170,185,162,175,168,151,181,170,182,156,159,160]\n",
    "\n",
    "Q1.試著用今天所教的內容，如何描述這兩組資料的樣態？"
   ]
  },
  {
   "cell_type": "code",
   "execution_count": 13,
   "metadata": {},
   "outputs": [
    {
     "name": "stdout",
     "output_type": "stream",
     "text": [
      "男孩身高平均= 165.95\n",
      "女孩身高平均= 168.3\n",
      "男孩身高中位數= 165.0\n",
      "女孩身高中位數= 169.0\n",
      "男孩身高眾數= 165\n",
      "女孩身高眾數= 170\n",
      "男孩身高全距= 39\n",
      "女孩身高全距= 34\n",
      "男孩身高變異數= 84.8921052631579\n",
      "男孩身高變異數= 95.37894736842104\n",
      "男孩身高標準差= 9.213691185575838\n",
      "女孩身高標準差= 9.766214587465353\n",
      "男孩身高90百分位數= 176.1\n",
      "男孩身高50百分位數= 165.0\n",
      "男孩身高20百分位數= 159.8\n",
      "女孩身高90百分位數= 182.1\n",
      "女孩身高50百分位數= 169.0\n",
      "女孩身高20百分位數= 159.8\n",
      "男孩身高偏度= -0.4713212731737694\n",
      "男孩身高峰度= 0.19395882957876243\n",
      "女孩身高偏度= 0.059853211293650746\n",
      "女孩身高峰度= -0.8203607083948947\n"
     ]
    }
   ],
   "source": [
    "boys = [164,175,183,173,176,159,165,165,169,151,156,163,169,144,170,177,165,160,164,171]\n",
    "girls = [169,170,162,154,183,173,169,167,170,185,162,175,168,151,181,170,182,156,159,160]\n",
    "# 計算統計量_平均數的方法\n",
    "mean_boy=np.mean(boys)\n",
    "print(\"男孩身高平均=\",mean_boy)\n",
    "mean_girl=np.mean(girls)\n",
    "print(\"女孩身高平均=\",mean_girl)\n",
    "\n",
    "# 計算統計量_中位數的方法\n",
    "np_median_boy=np.median(boys,axis=None)\n",
    "print(\"男孩身高中位數=\",np_median_boy)\n",
    "np_median_girl=np.median(girls,axis=None)\n",
    "print(\"女孩身高中位數=\",np_median_girl)\n",
    "\n",
    "#計算統計量_眾數\n",
    "mode_boy=stats.mode(boys,axis=None)\n",
    "print(\"男孩身高眾數=\",mode_boy[0][0])\n",
    "\n",
    "mode_girl=stats.mode(girls,axis=None)\n",
    "print(\"女孩身高眾數=\",mode_girl[0][0])\n",
    "\n",
    "#計算全距:\n",
    "def rangeV(x): \n",
    "  return(max(x)-min(x))\n",
    "    \n",
    "print(\"男孩身高全距=\",rangeV(boys))\n",
    "print(\"女孩身高全距=\",rangeV(girls))\n",
    "\n",
    "#計算變異數\n",
    "print(\"男孩身高變異數=\",np.var(boys,ddof=1))\n",
    "print(\"男孩身高變異數=\",np.var(girls,ddof=1))\n",
    "\n",
    "\n",
    "#計算標準差\n",
    "std_boy=np.std(boys,ddof=1)\n",
    "print(\"男孩身高標準差=\",std_boy)\n",
    "std_girl=np.std(girls,ddof=1)\n",
    "print(\"女孩身高標準差=\",std_girl)\n",
    "\n",
    "## python 百分位數\n",
    "#np\n",
    "print(\"男孩身高90百分位數=\",np.percentile(boys, 90))\n",
    "print(\"男孩身高50百分位數=\",np.percentile(boys, 50))\n",
    "print(\"男孩身高20百分位數=\",np.percentile(boys, 20))\n",
    "\n",
    "print(\"女孩身高90百分位數=\",np.percentile(girls, 90))\n",
    "print(\"女孩身高50百分位數=\",np.percentile(girls, 50))\n",
    "print(\"女孩身高20百分位數=\",np.percentile(girls, 20))\n",
    "\n",
    "\n",
    "#計算峰度和偏度\n",
    "print(\"男孩身高偏度=\",stats.skew(boys))\n",
    "print(\"男孩身高峰度=\",stats.kurtosis(boys))\n",
    "\n",
    "print(\"女孩身高偏度=\",stats.skew(girls))\n",
    "print(\"女孩身高峰度=\",stats.kurtosis(girls))"
   ]
  },
  {
   "cell_type": "markdown",
   "metadata": {},
   "source": [
    "Q2.請問男生和女生在平均身高上誰比較高？\n",
    "\n",
    "女生"
   ]
  },
  {
   "cell_type": "code",
   "execution_count": 12,
   "metadata": {},
   "outputs": [
    {
     "name": "stdout",
     "output_type": "stream",
     "text": [
      "means:\n",
      "boys: 165.95 , girls: 168.3\n"
     ]
    }
   ],
   "source": [
    "print(\"means:\")\n",
    "print(\"boys:\", np.mean(boys),\", girls:\", np.mean(girls))"
   ]
  },
  {
   "cell_type": "markdown",
   "metadata": {},
   "source": [
    "Q3.請問第二題的答案和日常生活中觀察的一致嗎？如果不一致，你覺得原因可能為何？\n",
    "\n",
    "由以上看出，這兩組數據和我們認知有出入，數據顯示女生身高是高於男生的。  \n",
    "會有如此狀況發生，有兩種解釋\n",
    "* 其一為抽樣時都是抽取到極端的例子\n",
    "    * 要增加抽取的樣本數\n",
    "* 二為我們的認知偏差，實際數據並沒有問題"
   ]
  }
 ],
 "metadata": {
  "kernelspec": {
   "display_name": "Python 3",
   "language": "python",
   "name": "python3"
  },
  "language_info": {
   "codemirror_mode": {
    "name": "ipython",
    "version": 3
   },
   "file_extension": ".py",
   "mimetype": "text/x-python",
   "name": "python",
   "nbconvert_exporter": "python",
   "pygments_lexer": "ipython3",
   "version": "3.8.5"
  }
 },
 "nbformat": 4,
 "nbformat_minor": 4
}
