{
 "cells": [
  {
   "cell_type": "markdown",
   "metadata": {},
   "source": [
    "# D05 NumPy 統計函式 Universal Functions (ufunc)\n",
    "\n",
    "**以下的函數皆為 Numpy，因此函數皆要在前面加 np.\n",
    "\n",
    "### 順序統計量 (Order Statistics)\n",
    "\n",
    "* maximum(), minimum():最大小值，有nan回傳nan\n",
    "* nanmax(), nanmin():忽略nan的最大小值\n",
    "* percentile(), nanpercentile():百分位數，後者忽略nan\n",
    "* quantile(), nanquantile():分位數，後者忽略nan\n",
    "\n",
    "### 平均數與變異數\n",
    "\n",
    "* mean(), nanmean():平均值\n",
    "* average():平均值，和 mean() 不同的點是可以加入權重\n",
    "* median()，nanmedian():中位數\n",
    "* std()，nanstd():標準差\n",
    "* var()，nanvar():變異數\n",
    "\n",
    "### 相關性\n",
    "\n",
    "* corrcoef():相關係數\n",
    "* correlate():互相關\n",
    "* cov():共變異數\n",
    "\n",
    "### 直方圖 (Histogram)\n",
    "\n",
    "histogram(a, bins=10, range=None, normed=None, weights=None, density=None)\n",
    "\n",
    "### 題目：\n",
    "\n",
    "english_score = np.array([55,89,76,65,48,70])\n",
    "\n",
    "math_score = np.array([60,85,60,68,np.nan,60])\n",
    "\n",
    "chinese_score = np.array([65,90,82,72,66,77])\n",
    "\n",
    "上 3 列共六位同學的英文、數學、國文成績，第一個元素代表第一位同學，舉例第一位同學英文 55 分、數學 60 分、國文 65 分，今天第五位同學因某原因沒來考試，導致數學成績缺值，運用上列數據回答下列問題。\n",
    "\n",
    "1. 請計算各科成績平均、最大值、最小值、標準差，其中數學缺一筆資料可忽略？\n",
    "2. 第五位同學補考數學後成績為 55，請計算補考後數學成績平均、最大值、最小值、標準差？\n",
    "3. 用補考後資料找出與國文成績相關係數最高的學科？"
   ]
  },
  {
   "cell_type": "code",
   "execution_count": 1,
   "metadata": {},
   "outputs": [],
   "source": [
    "import numpy as np\n",
    "\n",
    "english_score = np.array([55,89,76,65,48,70])\n",
    "math_score = np.array([60,85,60,68,np.nan,60])\n",
    "chinese_score = np.array([65,90,82,72,66,77])"
   ]
  },
  {
   "cell_type": "markdown",
   "metadata": {},
   "source": [
    "請計算各科成績平均、最大值、最小值、標準差，其中數學缺一筆資料可忽略？"
   ]
  },
  {
   "cell_type": "code",
   "execution_count": 5,
   "metadata": {},
   "outputs": [
    {
     "name": "stdout",
     "output_type": "stream",
     "text": [
      "英文平均：67.16666666666667 數學平均：66.6 國文平均：75.33333333333333\n",
      "英文最大值：89 數學最大值：85.0 國文最大值：90\n",
      "英文最小值：48 數學最小值：60.0 國文最小值：65\n",
      "英文標準差：13.433995020924426 數學標準差：9.707728879609279 國文標準差：8.825468196582484\n"
     ]
    }
   ],
   "source": [
    "english_mean = np.mean(english_score)\n",
    "math_mean = np.nanmean(math_score)\n",
    "chinese_mean = np.mean(chinese_score)\n",
    "\n",
    "english_max = np.max(english_score)\n",
    "math_max = np.nanmax(math_score)\n",
    "chinese_max = np.max(chinese_score)\n",
    "\n",
    "english_min = np.min(english_score)\n",
    "math_min = np.nanmin(math_score)\n",
    "chinese_min = np.min(chinese_score)\n",
    "\n",
    "english_std = np.std(english_score)\n",
    "math_std = np.nanstd(math_score)\n",
    "chinese_std = np.std(chinese_score)\n",
    "\n",
    "print(\"英文平均：\"+ str(english_mean) +\" 數學平均：\"+ str(math_mean) +\" 國文平均：\"+ str(chinese_mean))\n",
    "print(\"英文最大值：\"+ str(english_max) +\" 數學最大值：\"+ str(math_max) +\" 國文最大值：\"+ str(chinese_max))\n",
    "print(\"英文最小值：\"+ str(english_min) +\" 數學最小值：\"+ str(math_min) +\" 國文最小值：\"+ str(chinese_min))\n",
    "print(\"英文標準差：\"+ str(english_std) +\" 數學標準差：\"+ str(math_std) +\" 國文標準差：\"+ str(chinese_std))"
   ]
  },
  {
   "cell_type": "markdown",
   "metadata": {},
   "source": [
    "第五位同學補考數學後成績為 55，請計算補考後數學成績平均、最大值、最小值、標準差？"
   ]
  },
  {
   "cell_type": "code",
   "execution_count": 12,
   "metadata": {},
   "outputs": [
    {
     "name": "stdout",
     "output_type": "stream",
     "text": [
      "補考後數學成績： [60. 85. 60. 68. 55. 60.]\n",
      "數學各數據為：\n",
      "平均：64.66666666666667 最大值：85.0 最小值：55.0 標準差：9.860132971832694\n"
     ]
    }
   ],
   "source": [
    "math_score[4] = 55\n",
    "print(\"補考後數學成績： \"+ str(math_score))\n",
    "\n",
    "math_mean = np.mean(math_score)\n",
    "math_max = np.max(math_score)\n",
    "math_min = np.min(math_score)\n",
    "math_std = np.std(math_score)\n",
    "\n",
    "print(\"數學各數據為：\\n平均：\"+ str(math_mean) +\" 最大值：\"+ str(math_max) +\" 最小值：\"+\n",
    "      str(math_min) +\" 標準差：\"+ str(math_std))"
   ]
  },
  {
   "cell_type": "markdown",
   "metadata": {},
   "source": [
    "用補考後資料找出與國文成績相關係數最高的學科？"
   ]
  },
  {
   "cell_type": "code",
   "execution_count": 15,
   "metadata": {},
   "outputs": [
    {
     "name": "stdout",
     "output_type": "stream",
     "text": [
      "國文和數學的相關係數：[[1.         0.74056803]\n",
      " [0.74056803 1.        ]]\n",
      "國文和英文的相關係數：[[1.         0.97792828]\n",
      " [0.97792828 1.        ]]\n"
     ]
    }
   ],
   "source": [
    "ch_math_corr = np.corrcoef(chinese_score, math_score)\n",
    "ch_eng_corr = np.corrcoef(chinese_score, english_score)\n",
    "\n",
    "print(\"國文和數學的相關係數：\"+ str(ch_math_corr) +\"\\n國文和英文的相關係數：\"+ str(ch_eng_corr))\n"
   ]
  }
 ],
 "metadata": {
  "kernelspec": {
   "display_name": "Python 3",
   "language": "python",
   "name": "python3"
  },
  "language_info": {
   "codemirror_mode": {
    "name": "ipython",
    "version": 3
   },
   "file_extension": ".py",
   "mimetype": "text/x-python",
   "name": "python",
   "nbconvert_exporter": "python",
   "pygments_lexer": "ipython3",
   "version": "3.8.5"
  }
 },
 "nbformat": 4,
 "nbformat_minor": 4
}
