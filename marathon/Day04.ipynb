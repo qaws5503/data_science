{
 "cells": [
  {
   "cell_type": "markdown",
   "metadata": {},
   "source": [
    "# D04 NumPy 陣列邏輯函式 (Logic functions)\n",
    "\n",
    "* np.isnan():判斷是否為nan(not a number)\n",
    "* np.isnat():判斷是否為日期時間\n",
    "* np.equal():判斷陣列是否等於\n",
    "* np.not_equal():判斷陣列是否等於\n",
    "\n",
    "### Logical operation\n",
    "\n",
    "* np.logical_and()\n",
    "* np.logical_or()\n",
    "* np.logical_not()\n",
    "* np.logical_xor()\n",
    "\n",
    "### 題目\n",
    "\n",
    "english_score = np.array([55,89,76,65,48,70])\n",
    "\n",
    "math_score = np.array([60,85,60,68,55,60])\n",
    "\n",
    "chinese_score = np.array([65,90,82,72,66,77])\n",
    "\n",
    "上 3 列共六位同學的英文、數學、國文成績，第一個元素代表第一位同學，舉例第一位同學英文 55 分、數學 60 分、國文 65 分，運用上列數據回答下列問題。\n",
    "\n",
    "1. 有多少學生英文成績比數學成績高？\n",
    "2. 是否全班同學最高分都是國文？"
   ]
  },
  {
   "cell_type": "code",
   "execution_count": 1,
   "metadata": {},
   "outputs": [],
   "source": [
    "import numpy as np\n",
    "\n",
    "english_score = np.array([55,89,76,65,48,70])\n",
    "math_score = np.array([60,85,60,68,55,60])\n",
    "chinese_score = np.array([65,90,82,72,66,77])"
   ]
  },
  {
   "cell_type": "markdown",
   "metadata": {},
   "source": [
    "有多少學生英文成績比數學成績高？\n",
    "\n",
    "利用np.greater()"
   ]
  },
  {
   "cell_type": "code",
   "execution_count": 3,
   "metadata": {},
   "outputs": [
    {
     "data": {
      "text/plain": [
       "array([False,  True,  True, False, False,  True])"
      ]
     },
     "execution_count": 3,
     "metadata": {},
     "output_type": "execute_result"
    }
   ],
   "source": [
    "np.greater(english_score, math_score)"
   ]
  },
  {
   "cell_type": "markdown",
   "metadata": {},
   "source": [
    "是否全班同學最高分都是國文？\n",
    "\n",
    "先比較國文和英文，再將國文和數學比較，最後兩個陣列取 np.logical_and()"
   ]
  },
  {
   "cell_type": "code",
   "execution_count": null,
   "metadata": {},
   "outputs": [],
   "source": [
    "compare_math = np.greater(chinese_score, math_score)\n",
    "compare_np.greater(chinese_score, english_score)"
   ]
  }
 ],
 "metadata": {
  "kernelspec": {
   "display_name": "Python 3",
   "language": "python",
   "name": "python3"
  },
  "language_info": {
   "codemirror_mode": {
    "name": "ipython",
    "version": 3
   },
   "file_extension": ".py",
   "mimetype": "text/x-python",
   "name": "python",
   "nbconvert_exporter": "python",
   "pygments_lexer": "ipython3",
   "version": "3.8.5"
  }
 },
 "nbformat": 4,
 "nbformat_minor": 4
}
