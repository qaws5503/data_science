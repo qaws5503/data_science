{
 "cells": [
  {
   "cell_type": "markdown",
   "metadata": {},
   "source": [
    "# D27 用機率分布描述亂中有序的世界－離散型分配 (1)\n",
    "\n",
    "## 兩種機率分佈\n",
    "\n",
    "* 離散型分佈：可數\n",
    "* 連續型分佈：不可數\n",
    "\n",
    "## 離散型分佈\n",
    "\n",
    "有三種分佈離散均勻分布、伯努利分佈、二項分佈\n",
    "\n",
    "### 離散均勻分布\n",
    "\n",
    "所有結果皆均勻分布\n",
    "\n",
    "### 相關函式\n",
    "\n",
    "* 機率質量函數：randint.pmf\n",
    "* 累積機率函數：randint.cdf\n",
    "* 樣本點：randint.rvs\n",
    "* 統計量計算：randint.stats\n",
    "\n",
    "### 伯努利分佈\n",
    "\n",
    "只有兩種結果，因此\n",
    "\n",
    "* P(X=1) = p\n",
    "* P(X=0) = 1 - p\n",
    "\n",
    "#### 相關函式\n",
    "\n",
    "* 機率質量函數：bernoulli.pmf\n",
    "* 累積機率函數：bernoulli.cdf\n",
    "* 樣本點：bernoulli.rvs\n",
    "* 統計量計算：bernoulli.stats\n",
    "\n",
    "### 二項分佈\n",
    "\n",
    "#### 相關函式\n",
    "\n",
    "* 機率質量函數：binom.pmf\n",
    "* 累積機率函數：binom.cdf\n",
    "* 樣本點：binom.rvs\n",
    "* 統計量計算：binom.stats"
   ]
  },
  {
   "cell_type": "code",
   "execution_count": 1,
   "metadata": {},
   "outputs": [],
   "source": [
    "# 問題：丟一個銅板，丟了100次，出現正面 50 次的機率有多大。\n",
    "\n",
    "# library\n",
    "import matplotlib.pyplot as plt\n",
    "import numpy as np\n",
    "import pandas as pd\n",
    "from scipy import stats\n",
    "import math\n",
    "import statistics"
   ]
  },
  {
   "cell_type": "code",
   "execution_count": 4,
   "metadata": {},
   "outputs": [
    {
     "name": "stdout",
     "output_type": "stream",
     "text": [
      "0.07958923738717888\n"
     ]
    }
   ],
   "source": [
    "p = 0.5\n",
    "n = 100\n",
    "x = 50\n",
    "\n",
    "probs = stats.binom.pmf(x, n , p)\n",
    "print(probs)"
   ]
  }
 ],
 "metadata": {
  "kernelspec": {
   "display_name": "Python 3",
   "language": "python",
   "name": "python3"
  },
  "language_info": {
   "codemirror_mode": {
    "name": "ipython",
    "version": 3
   },
   "file_extension": ".py",
   "mimetype": "text/x-python",
   "name": "python",
   "nbconvert_exporter": "python",
   "pygments_lexer": "ipython3",
   "version": "3.8.5"
  }
 },
 "nbformat": 4,
 "nbformat_minor": 4
}
