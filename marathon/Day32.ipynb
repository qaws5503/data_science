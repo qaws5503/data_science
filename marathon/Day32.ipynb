{
 "cells": [
  {
   "cell_type": "markdown",
   "metadata": {},
   "source": [
    "# D32 掌握 AB test 的精隨 - 假設檢定的進階概念與種類\n",
    "\n",
    "## 假設檢定的誤差類型\n",
    "\n",
    "* α：Type I error/型一誤差，又稱偽陽性 false positive，H0 是對的，但是我們做了實驗後，卻拒絕H0，又稱顯著水準(significant level)，設定 α 值愈小，表示希望檢測時的誤判機率愈低(即希望檢定能愈準確)\n",
    "* β：Type II error/型二誤差，又稱偽陰性 false negative，H0 是錯的，但是我們做了實驗後，卻沒有證據拒絕 H0。\n",
    "* 1- β：又稱檢定力，H0 是錯的，但是我們做了實驗後拒絕 H0 的能力。"
   ]
  },
  {
   "cell_type": "markdown",
   "metadata": {},
   "source": [
    "## 問題\n",
    "\n",
    "![image1](http://cumatrixfile.cupoy.com/00000176E15834E90000001E6375706F795F72656C656173654349/marathon/1610076223350)\n",
    "![image2](http://cumatrixfile.cupoy.com/00000176E15834E90000001E6375706F795F72656C656173654349/marathon/1610076223351)\n"
   ]
  },
  {
   "cell_type": "markdown",
   "metadata": {},
   "source": [
    "\n",
    "如果拒絕域改變時，α 和 β 會怎樣變化。\n",
    "\n",
    "1.   假設 x̄ > 2，拒絕 H0，α 會變大／變小？β 會變大／變小？\n",
    "\n",
    "![](https://cumatrixfile.cupoy.com/00000176E15834E90000001E6375706F795F72656C656173654349/marathon/sample%20mean%202.png?t=1610101979588)\n",
    "\n",
    "α 變大 β 變小\n",
    "\n",
    "2.   假設 x̄ > 0.2，拒絕 Ho，會變大／變小？β 會變大/變小？\n",
    "\n",
    "![](https://cumatrixfile.cupoy.com/00000176E15834E90000001E6375706F795F72656C656173654349/marathon/sample%20mean%200_2.png?t=1610101979588)\n",
    "\n",
    "α 變小 β 變大\n",
    "\n",
    "3.   α 和 β 有關聯性？\n",
    "\n",
    "α 和 β 為反比關係"
   ]
  }
 ],
 "metadata": {
  "kernelspec": {
   "display_name": "Python 3",
   "language": "python",
   "name": "python3"
  },
  "language_info": {
   "codemirror_mode": {
    "name": "ipython",
    "version": 3
   },
   "file_extension": ".py",
   "mimetype": "text/x-python",
   "name": "python",
   "nbconvert_exporter": "python",
   "pygments_lexer": "ipython3",
   "version": "3.8.5"
  }
 },
 "nbformat": 4,
 "nbformat_minor": 4
}
