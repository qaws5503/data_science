{
 "cells": [
  {
   "cell_type": "markdown",
   "metadata": {},
   "source": [
    "# D28 用機率分布描述亂中有序的世界－離散型分配 (2)\n",
    "\n",
    "## 離散型分佈\n",
    "\n",
    "繼續昨天的離散型分佈，接下來介紹負二項分佈和超幾何分佈兩種\n",
    "\n",
    "### 負二項分佈\n",
    "\n",
    "負二項分佈是統計學上一種描述在一系列獨立同分佈的伯努利試驗中，X為成功次數到達指定次數 (記為k) 時，需要試驗的機率分布，表示為X~NB(k,p)  \n",
    "\n",
    "* X~NB(k,p)\n",
    "* k：是成功的次數\n",
    "* p：是成功的機率\n",
    "\n",
    "問題轉換：\n",
    "\n",
    "丟n次出現紅色的次數 --> 第k次出現紅色時，共擲的次數  \n",
    "binomial (n,p) 轉換成負二項分配NB(k,p)\n",
    "\n",
    "#### 相關函數\n",
    "\n",
    "* 機率質量函數：nbinom.pmf\n",
    "* 累積機率函數：nbinom.cdf\n",
    "* 樣本點：nbinom.rvs\n",
    "* 統計量計算：nbinom.stats\n",
    "\n",
    "### 超幾何分佈\n",
    "\n",
    "超幾何分配描述了由有限個物件中抽出n個物件，成功抽出指定種類的物件的個數 (取後不放回)\n",
    "\n",
    "* 記做：X~HG(N,K,n)\n",
    "* N：共有幾個物件，N＝0, 1, ...\n",
    "* K：N個物件中，有K個是你關心的物件類型個數，K=0,1,2,...,N\n",
    "* n：K個物件，要抽出n個物件，n=0,1,...,N\n",
    "\n",
    "#### 相關函數\n",
    "\n",
    "* 機率質量函數：hypergeom.pmf\n",
    "* 累積機率函數：hypergeom.cdf\n",
    "* 樣本點：hypergeom.rvs\n",
    "* 統計量計算：hypergeom.stats"
   ]
  },
  {
   "cell_type": "markdown",
   "metadata": {},
   "source": [
    "Q1.大樂透的頭獎，你必須從49個挑選出 6 個號碼，且這六個號碼與頭獎的六個號碼一致，頭獎的機率是屬於哪一種分配？\n",
    "\n",
    "超幾何分佈"
   ]
  },
  {
   "cell_type": "code",
   "execution_count": 9,
   "metadata": {
    "scrolled": true
   },
   "outputs": [
    {
     "name": "stdout",
     "output_type": "stream",
     "text": [
      "Q2.運用範例的 python 程式碼，計算大樂透的中頭獎機率？\n",
      "7.151123842018523e-08\n"
     ]
    }
   ],
   "source": [
    "# Q2.運用範例的 python 程式碼，計算大樂透的中頭獎機率？\n",
    "\n",
    "from scipy import stats\n",
    "\n",
    "N = 49\n",
    "K = 6\n",
    "n = 6\n",
    "\n",
    "p = stats.hypergeom.pmf(6, N, K, n)\n",
    "print(\"Q2.運用範例的 python 程式碼，計算大樂透的中頭獎機率？\")\n",
    "print(p)"
   ]
  },
  {
   "cell_type": "markdown",
   "metadata": {},
   "source": [
    "Q3.你覺得電腦簽注的中獎機率，和人腦簽注相比，哪一個機率高?\n",
    "\n",
    "機率相同，除非人能夠預知下期開獎的號碼"
   ]
  }
 ],
 "metadata": {
  "kernelspec": {
   "display_name": "Python 3",
   "language": "python",
   "name": "python3"
  },
  "language_info": {
   "codemirror_mode": {
    "name": "ipython",
    "version": 3
   },
   "file_extension": ".py",
   "mimetype": "text/x-python",
   "name": "python",
   "nbconvert_exporter": "python",
   "pygments_lexer": "ipython3",
   "version": "3.8.5"
  }
 },
 "nbformat": 4,
 "nbformat_minor": 4
}
