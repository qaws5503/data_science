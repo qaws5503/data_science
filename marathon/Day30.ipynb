{
 "cells": [
  {
   "cell_type": "markdown",
   "metadata": {},
   "source": [
    "# D30 用貝式定理讓你決策更精準\n",
    "\n",
    "## 條件機率\n",
    "\n",
    "P(A|B) 為條件機率在 B 已知的條件下，會發生 A 的機率。  \n",
    "P(A|B)≠P(B|A) if P(A)≠P(B)\n",
    "\n",
    "## 貝氏定理\n",
    "\n",
    "P(女生|長髮) = P(女生且長髮)/P(長髮) = [ P(長髮|女生) P(女生) ] / [ P(長髮|女生) P(女生)+P(長髮|男生) P(男生) ]\n",
    "\n",
    "透過貝式定理，巧妙的將檢視的範圍的角度做轉換 (因為長髮中男生與女生的比例，較不容易觀察)"
   ]
  },
  {
   "cell_type": "markdown",
   "metadata": {},
   "source": [
    "假設有10人是女的，有90人是男的。在這 10 名女性裡，有一半的人有長髮（5 人），另一半有短髮（5 人）；在 90 名男性當中，81 個人有短髮，9個人有長髮。\n",
    "\n",
    "Q1：所以根據這個情況條件下。你會上述中的長髮是男性或女性？ (直覺回答)\n",
    "\n",
    "男生，因男生的長髮人數大於女生"
   ]
  },
  {
   "cell_type": "code",
   "execution_count": 1,
   "metadata": {},
   "outputs": [
    {
     "name": "stdout",
     "output_type": "stream",
     "text": [
      "機率為： 0.35714285714285715\n"
     ]
    }
   ],
   "source": [
    "# Q2：以題意計算當你看到長髮時，是女生的機率？\n",
    "# P(女生|長髮) = P(女生且長髮)/P(長髮)\n",
    "\n",
    "from numpy.random import normal,uniform\n",
    "from scipy import stats\n",
    "import matplotlib.pyplot as plt\n",
    "\n",
    "P1 = 5/100\n",
    "P2 = (5+9)/100\n",
    "\n",
    "print(\"機率為：\",P1/P2)"
   ]
  },
  {
   "cell_type": "markdown",
   "metadata": {},
   "source": [
    "Q3：你的決策因為男生女生比例不同 (先驗分配不同)，決策有沒有改變？\n",
    "\n",
    "有，因女生人數本就比較少。因此縱使女生中長髮的比例高於男生，最後隨機抽取一位長髮人士，選中男生比率還是比較高"
   ]
  }
 ],
 "metadata": {
  "kernelspec": {
   "display_name": "Python 3",
   "language": "python",
   "name": "python3"
  },
  "language_info": {
   "codemirror_mode": {
    "name": "ipython",
    "version": 3
   },
   "file_extension": ".py",
   "mimetype": "text/x-python",
   "name": "python",
   "nbconvert_exporter": "python",
   "pygments_lexer": "ipython3",
   "version": "3.8.5"
  }
 },
 "nbformat": 4,
 "nbformat_minor": 4
}
