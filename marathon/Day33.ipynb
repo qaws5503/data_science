{
 "cells": [
  {
   "cell_type": "markdown",
   "metadata": {},
   "source": [
    "# D33 A/B test 的執行流程與計算\n",
    "\n",
    "## A/B test 的 5 步驟\n",
    "\n",
    "![](http://cumatrixfile.cupoy.com/00000175640A4B610000000E6375706F795F72656C656173654349/marathon/1610076223329)\n",
    "\n",
    "## python code\n",
    "\n",
    "語法 for 雙樣本比例檢定\n",
    "\n",
    "* statsmodels.stats.proportion.proportions_ztest(A, B, alternative='smaller')\n",
    "\n",
    "\n",
    "參數說明：\n",
    "\n",
    "* A：兩組開信的人數\n",
    "* B：兩組的總人數\n",
    "* alternative： ‘two-sided’, ‘smaller’, ‘larger’ 分別代表雙尾檢定，左尾檢定與右尾檢定\n",
    "\n",
    "\n",
    "輸出\n",
    "\n",
    "* Z-test：檢定量\n",
    "* P-value：這樣檢定量下的 p-value 值"
   ]
  },
  {
   "cell_type": "markdown",
   "metadata": {},
   "source": [
    "## 問題\n",
    "\n",
    "某工廠想知道兩條不同的生產線的產品不良率是否有所不同，由兩條生產線中各抽取 300 個樣本，第一組有 75 個不良品，第二組有 30 個不良品，我們可以宣稱生產線所生產出的產品不良率不相同? (以 0.05 為顯著水準)?\n",
    "\n",
    "* H0:生產線所生產出的產品不良率相同\n",
    "* H1:生產線所生產出的產品不良率不相同"
   ]
  },
  {
   "cell_type": "code",
   "execution_count": 2,
   "metadata": {},
   "outputs": [],
   "source": [
    "# library\n",
    "import matplotlib.pyplot as plt\n",
    "import numpy as np\n",
    "import pandas as pd\n",
    "from scipy import stats\n",
    "import math\n",
    "import statistics\n",
    "import seaborn as sns"
   ]
  },
  {
   "cell_type": "code",
   "execution_count": 7,
   "metadata": {},
   "outputs": [
    {
     "data": {
      "text/plain": [
       "(4.834937784152282, 1.3318728439003627e-06)"
      ]
     },
     "execution_count": 7,
     "metadata": {},
     "output_type": "execute_result"
    }
   ],
   "source": [
    "import statsmodels.stats.proportion\n",
    "A = [75, 30] # 兩組不良率\n",
    "B = [300, 300] # 兩組抽樣樣本數\n",
    "statsmodels.stats.proportion.proportions_ztest(A, B, alternative='two-sided')"
   ]
  },
  {
   "cell_type": "markdown",
   "metadata": {},
   "source": [
    "顯著水準為 0.05，因此測試結果拒絕H0。"
   ]
  }
 ],
 "metadata": {
  "kernelspec": {
   "display_name": "Python 3",
   "language": "python",
   "name": "python3"
  },
  "language_info": {
   "codemirror_mode": {
    "name": "ipython",
    "version": 3
   },
   "file_extension": ".py",
   "mimetype": "text/x-python",
   "name": "python",
   "nbconvert_exporter": "python",
   "pygments_lexer": "ipython3",
   "version": "3.8.5"
  }
 },
 "nbformat": 4,
 "nbformat_minor": 4
}
