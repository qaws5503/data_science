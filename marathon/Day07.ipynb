{
 "cells": [
  {
   "cell_type": "markdown",
   "metadata": {},
   "source": [
    "# D07 NumPy 的矩陣函式與線性代數應用\n",
    "\n",
    "### 基本函式\n",
    "\n",
    "* 點積：np.dot(a, b)、二維時也可以使用 @ 或 np.matmul(a, b)\n",
    "* 內積：np.inner(a, b)\n",
    "* 外積：np.outer(a, b)\n",
    "* trace：np.trace(a)\n",
    "* 行列式：np.linalg.det(A)\n",
    "* 反矩陣：np.linalg.inv(A)\n",
    "* 轉置：np.transpose()\n",
    "* 特徵值：w,v = np.linalg.eig(a)，w:eigenvalues, v:eigenvectors\n",
    "* solve：np.linalg.solve(a, b)\n",
    "\n",
    "### 問題\n",
    "\n",
    "array1 = np.array([[10, 8], [3, 5]])\n",
    "\n",
    "1. 運用上列array計算反矩陣，乘上原矩陣，並觀察是否為單位矩陣?\n",
    "2. 運用上列array計算特徵值、特徵向量?\n",
    "3. 運用上列array計算SVD?"
   ]
  },
  {
   "cell_type": "code",
   "execution_count": 3,
   "metadata": {},
   "outputs": [
    {
     "name": "stdout",
     "output_type": "stream",
     "text": [
      "反矩陣為：\n",
      "[[ 0.19230769 -0.30769231]\n",
      " [-0.11538462  0.38461538]]\n",
      "反矩陣乘上原矩陣：\n",
      "[[1. 0.]\n",
      " [0. 1.]]\n",
      "單位矩陣為：\n",
      "[[1. 0.]\n",
      " [0. 1.]]\n"
     ]
    }
   ],
   "source": [
    "import numpy as np\n",
    "array1 = np.array([[10, 8], [3, 5]])\n",
    "inv = np.linalg.inv(array1)\n",
    "mul = array1 @ inv\n",
    "print(\"反矩陣為：\")\n",
    "print(inv)\n",
    "print(\"反矩陣乘上原矩陣：\")\n",
    "print(mul)\n",
    "print(\"單位矩陣為：\")\n",
    "print(np.identity(2))"
   ]
  },
  {
   "cell_type": "code",
   "execution_count": 4,
   "metadata": {},
   "outputs": [
    {
     "name": "stdout",
     "output_type": "stream",
     "text": [
      "eigenvalues:\n",
      "[13.  2.]\n",
      "eigenvectors:\n",
      "[[ 0.93632918 -0.70710678]\n",
      " [ 0.35112344  0.70710678]]\n"
     ]
    }
   ],
   "source": [
    "w, v = np.linalg.eig(array1)\n",
    "print(\"eigenvalues:\")\n",
    "print(w)\n",
    "print(\"eigenvectors:\")\n",
    "print(v)"
   ]
  },
  {
   "cell_type": "code",
   "execution_count": 7,
   "metadata": {},
   "outputs": [
    {
     "name": "stdout",
     "output_type": "stream",
     "text": [
      "[[-0.91663818 -0.39971796]\n",
      " [-0.39971796  0.91663818]]\n",
      "\n",
      "\n",
      "[13.94721714  1.86417116]\n",
      "\n",
      "\n",
      "[[-0.74319741 -0.6690722 ]\n",
      " [-0.6690722   0.74319741]]\n"
     ]
    }
   ],
   "source": [
    "u, s, vh = np.linalg.svd(array1)\n",
    "print(u)\n",
    "print(\"\\n\")\n",
    "print(s)\n",
    "print(\"\\n\")\n",
    "print(vh)"
   ]
  }
 ],
 "metadata": {
  "kernelspec": {
   "display_name": "Python 3",
   "language": "python",
   "name": "python3"
  },
  "language_info": {
   "codemirror_mode": {
    "name": "ipython",
    "version": 3
   },
   "file_extension": ".py",
   "mimetype": "text/x-python",
   "name": "python",
   "nbconvert_exporter": "python",
   "pygments_lexer": "ipython3",
   "version": "3.8.5"
  }
 },
 "nbformat": 4,
 "nbformat_minor": 4
}
