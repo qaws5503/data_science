{
 "cells": [
  {
   "cell_type": "markdown",
   "metadata": {},
   "source": [
    "# D08 NumPy 結構化陣列 (Structured Arrays)\n",
    "\n",
    "### 題目：\n",
    "\n",
    "name_list = ['小明','小華','小菁','小美','小張','John','Mark','Tom']\n",
    "\n",
    "sex_list = ['boy','boy','girl','girl','boy','boy','boy','boy']\n",
    "\n",
    "weight_list = [67.5,75.3,50.1,45.5,80.8,90.4,78.4,70.7]\n",
    "\n",
    "rank_list = [8,1,5,4,7,6,2,3]\n",
    "\n",
    "myopia_list = [True,True,False,False,True,True,False,False]\n",
    "\n",
    "\n",
    "\n",
    "1. 將上列 list 依照['name', 'sex', 'weight', 'rank', 'myopia']順序擺入 array，並且資料型態順序擺入[Unicode,Unicode,float,int,boolean]\n",
    "2. 呈上題，將 array 中體重(weight)數據集取出算出全部平均體重\n",
    "3. 呈上題，進一步算出男生(sex 欄位是 boy)平均體重、女生(sex 欄位是 girl)平均體重"
   ]
  },
  {
   "cell_type": "code",
   "execution_count": 7,
   "metadata": {},
   "outputs": [
    {
     "data": {
      "text/plain": [
       "array([('小明', 'boy', 67.5, 8,  True), ('小華', 'boy', 75.3, 1,  True),\n",
       "       ('小菁', 'girl', 50.1, 5, False), ('小美', 'girl', 45.5, 4, False),\n",
       "       ('小張', 'boy', 80.8, 7,  True), ('Joh', 'boy', 90.4, 6,  True),\n",
       "       ('Mar', 'boy', 78.4, 2, False), ('Tom', 'boy', 70.7, 3, False)],\n",
       "      dtype=[('name', '<U3'), ('sex', '<U4'), ('weight', '<f8'), ('rank', '<i8'), ('myopia', '?')])"
      ]
     },
     "execution_count": 7,
     "metadata": {},
     "output_type": "execute_result"
    }
   ],
   "source": [
    "import numpy as np\n",
    "name_list = ['小明','小華','小菁','小美','小張','John','Mark','Tom']\n",
    "sex_list = ['boy','boy','girl','girl','boy','boy','boy','boy']\n",
    "weight_list = [67.5,75.3,50.1,45.5,80.8,90.4,78.4,70.7]\n",
    "rank_list = [8,1,5,4,7,6,2,3]\n",
    "myopia_list = [True,True,False,False,True,True,False,False]\n",
    "\n",
    "dt = np.dtype({\"names\":(\"name\",\"sex\",\"weight\",\"rank\",\"myopia\"),\n",
    "               \"formats\":(\"U3\",\"U4\",\"f8\",\"i8\",\"?\")})\n",
    "array = np.zeros(8, dtype = dt)\n",
    "array['name'] = name_list\n",
    "array['sex'] = sex_list\n",
    "array['weight'] = weight_list\n",
    "array['rank'] = rank_list\n",
    "array['myopia'] = myopia_list\n",
    "\n",
    "array"
   ]
  },
  {
   "cell_type": "code",
   "execution_count": 9,
   "metadata": {},
   "outputs": [
    {
     "name": "stdout",
     "output_type": "stream",
     "text": [
      "[67.5 75.3 50.1 45.5 80.8 90.4 78.4 70.7]\n",
      "平均為：\n",
      "69.8375\n"
     ]
    }
   ],
   "source": [
    "print(array['weight'])\n",
    "print(\"平均為：\")\n",
    "print(np.mean(array['weight']))"
   ]
  },
  {
   "cell_type": "code",
   "execution_count": 10,
   "metadata": {},
   "outputs": [
    {
     "name": "stdout",
     "output_type": "stream",
     "text": [
      "男生的體重：\n",
      "[67.5 75.3 80.8 90.4 78.4 70.7]\n",
      "男生體重的平均：\n",
      "77.18333333333332\n"
     ]
    }
   ],
   "source": [
    "print(\"男生的體重：\")\n",
    "print(array[array['sex']=='boy']['weight'])\n",
    "print(\"男生體重的平均：\")\n",
    "print(np.mean(array[array['sex']=='boy']['weight']))"
   ]
  },
  {
   "cell_type": "code",
   "execution_count": 11,
   "metadata": {},
   "outputs": [
    {
     "name": "stdout",
     "output_type": "stream",
     "text": [
      "女生的體重：\n",
      "[50.1 45.5]\n",
      "女生體重的平均：\n",
      "47.8\n"
     ]
    }
   ],
   "source": [
    "print(\"女生的體重：\")\n",
    "print(array[array['sex']=='girl']['weight'])\n",
    "print(\"女生體重的平均：\")\n",
    "print(np.mean(array[array['sex']=='girl']['weight']))"
   ]
  }
 ],
 "metadata": {
  "kernelspec": {
   "display_name": "Python 3",
   "language": "python",
   "name": "python3"
  },
  "language_info": {
   "codemirror_mode": {
    "name": "ipython",
    "version": 3
   },
   "file_extension": ".py",
   "mimetype": "text/x-python",
   "name": "python",
   "nbconvert_exporter": "python",
   "pygments_lexer": "ipython3",
   "version": "3.8.5"
  }
 },
 "nbformat": 4,
 "nbformat_minor": 4
}
